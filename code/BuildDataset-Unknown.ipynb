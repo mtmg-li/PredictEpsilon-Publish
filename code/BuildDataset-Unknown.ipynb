{
 "cells": [
  {
   "cell_type": "markdown",
   "id": "2c6a644f",
   "metadata": {},
   "source": [
    "# Build Unkown Dataset Notebook\n",
    "\n",
    "## Purpose and Context\n",
    "\n",
    "This notebook gets the experimental data we already have in a usable format for us to do predictions on\n",
    "\n",
    "## Setup\n",
    "\n",
    "import libraries"
   ]
  },
  {
   "cell_type": "code",
   "execution_count": null,
   "id": "b2e68ba7",
   "metadata": {},
   "outputs": [],
   "source": [
    "import pandas as pd\n",
    "import numpy as np\n",
    "\n",
    "from IPython.core.display import display, HTML\n",
    "display(HTML(\"<style>.container { width:100% !important; }</style>\"))\n",
    "\n",
    "import utils\n",
    "import features\n",
    "\n",
    "from rdkit import Chem\n",
    "\n",
    "import tqdm.notebook\n",
    "tqdm.notebook.tqdm_notebook.pandas()"
   ]
  },
  {
   "cell_type": "markdown",
   "id": "4aa736ae",
   "metadata": {},
   "source": [
    "## Load Data"
   ]
  },
  {
   "cell_type": "code",
   "execution_count": null,
   "id": "bac126f8",
   "metadata": {},
   "outputs": [],
   "source": [
    "data = utils.LoadDataFromOutput('extraction-pubChem')\n",
    "data['Source'] = 'PubChem'\n",
    "data.columns = data.columns.str.replace('_', ' ').str.title()\n",
    "print(len(data))\n",
    "data.head(1)"
   ]
  },
  {
   "cell_type": "code",
   "execution_count": null,
   "id": "81a41ae6",
   "metadata": {},
   "outputs": [],
   "source": [
    "data['Source Key'] = data['Cid'].astype(str)\n",
    "data.rename(columns = {'Isosmiles': 'Smiles'}, inplace = True)\n",
    "data = data[['Source', 'Source Key', 'Smiles']]"
   ]
  },
  {
   "cell_type": "markdown",
   "id": "e978e511",
   "metadata": {},
   "source": [
    "## Compute Features"
   ]
  },
  {
   "cell_type": "code",
   "execution_count": null,
   "id": "388f2fd1",
   "metadata": {
    "scrolled": true
   },
   "outputs": [],
   "source": [
    "temp = data['Smiles'].drop_duplicates().to_frame()\n",
    "\n",
    "temp = temp.join(temp['Smiles'].progress_apply(features.ComputeAllFeatures).apply(lambda x: pd.Series(x, dtype = 'object'))).fillna(0)\n",
    "\n",
    "# Removing any entry that failed to compute all features\n",
    "temp = temp[temp['Total Atom Count'].isna() == False].drop_duplicates()\n",
    "\n",
    "data = data.merge(temp, on = 'Smiles')\n",
    "\n",
    "len(data)"
   ]
  },
  {
   "cell_type": "markdown",
   "id": "c86327d7",
   "metadata": {},
   "source": [
    "Removing data that didn't calculate all the features"
   ]
  },
  {
   "cell_type": "code",
   "execution_count": null,
   "id": "fcaea406",
   "metadata": {},
   "outputs": [],
   "source": [
    "data = data[data['Error'] != True].reset_index(drop = True)\n",
    "data.drop(['Error'], axis = 'columns', inplace = True)"
   ]
  },
  {
   "cell_type": "markdown",
   "id": "8a4d683a",
   "metadata": {},
   "source": [
    "Removing epsilon values we actually do know that are in one of the other datasets"
   ]
  },
  {
   "cell_type": "code",
   "execution_count": null,
   "id": "a2339d97",
   "metadata": {},
   "outputs": [],
   "source": [
    "knownEpsilons = utils.LoadDataFromOutput('dataset-allKnownEpsilon')['Smiles'].progress_apply(lambda x: Chem.inchi.MolToInchiKey(Chem.MolFromSmiles(x))).to_list()\n",
    "\n",
    "data = data[data['InchiKey'].isin(knownEpsilons) == False].reset_index(drop = True)\n",
    "len(data)"
   ]
  },
  {
   "cell_type": "markdown",
   "id": "3f509ce2",
   "metadata": {},
   "source": [
    "### Cleaning up data"
   ]
  },
  {
   "cell_type": "code",
   "execution_count": null,
   "id": "149e465c",
   "metadata": {
    "scrolled": true
   },
   "outputs": [],
   "source": [
    "data.drop(['InchiKey'], axis = 'columns', inplace = True)\n",
    "\n",
    "# Standardizing Column names\n",
    "data.columns = data.columns.str.replace('_', ' ').str.title()\n",
    "\n",
    "# Compressing data\n",
    "utils.ConvertFloatColumnsToIntegerIfNoDataLoss(data)\n",
    "utils.CompressIntegerColumns(data)"
   ]
  },
  {
   "cell_type": "code",
   "execution_count": null,
   "id": "0ce7d7e4",
   "metadata": {},
   "outputs": [],
   "source": [
    "utils.RemoveStaticColumns(data)\n",
    "print('-----------------')\n",
    "print('-----------------')\n",
    "print('-----------------')\n",
    "utils.RemoveDuplicateColumns(data)"
   ]
  },
  {
   "cell_type": "markdown",
   "id": "d07b4b23",
   "metadata": {},
   "source": [
    "## Basic Analysis"
   ]
  },
  {
   "cell_type": "code",
   "execution_count": null,
   "id": "5520b8ec",
   "metadata": {},
   "outputs": [],
   "source": [
    "data.info()"
   ]
  },
  {
   "cell_type": "code",
   "execution_count": null,
   "id": "72cc7854",
   "metadata": {},
   "outputs": [],
   "source": [
    "utils.InspectColumnValues(data)"
   ]
  },
  {
   "cell_type": "code",
   "execution_count": null,
   "id": "c21f97b1",
   "metadata": {},
   "outputs": [],
   "source": [
    "data.describe()"
   ]
  },
  {
   "cell_type": "code",
   "execution_count": null,
   "id": "8b136270",
   "metadata": {
    "scrolled": true
   },
   "outputs": [],
   "source": [
    "utils.ShowHistogramCharts(data)"
   ]
  },
  {
   "cell_type": "markdown",
   "id": "0f10c1d2",
   "metadata": {},
   "source": [
    "### Saving for later use"
   ]
  },
  {
   "cell_type": "code",
   "execution_count": null,
   "id": "f0bbf74f",
   "metadata": {},
   "outputs": [],
   "source": [
    "utils.SaveDataToOutput(data, 'dataset-unknownEpsilon')\n",
    "utils.LoadDataFromOutput('dataset-unknownEpsilon')"
   ]
  },
  {
   "cell_type": "code",
   "execution_count": null,
   "id": "6cdecb24",
   "metadata": {},
   "outputs": [],
   "source": []
  }
 ],
 "metadata": {
  "kernelspec": {
   "display_name": "Python 3 (ipykernel)",
   "language": "python",
   "name": "python3"
  },
  "language_info": {
   "codemirror_mode": {
    "name": "ipython",
    "version": 3
   },
   "file_extension": ".py",
   "mimetype": "text/x-python",
   "name": "python",
   "nbconvert_exporter": "python",
   "pygments_lexer": "ipython3",
   "version": "3.8.13"
  }
 },
 "nbformat": 4,
 "nbformat_minor": 5
}
