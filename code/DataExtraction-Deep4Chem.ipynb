{
 "cells": [
  {
   "cell_type": "markdown",
   "metadata": {
    "id": "UV8goW1kGMP1"
   },
   "source": [
    "# Deep4Chem Data Extraction notebook\n",
    "\n",
    "## Purpose and Context\n",
    "\n",
    "This notebook will extract the data from Deep4Chem CSV, correct any epsilon values errors found and store it in a parquet format\n",
    "\n",
    "Go to http://deep4chem.korea.ac.kr/ for information\n",
    "\n",
    "## Setup\n",
    "\n",
    "import libraries"
   ]
  },
  {
   "cell_type": "code",
   "execution_count": null,
   "metadata": {},
   "outputs": [],
   "source": [
    "import pandas as pd\n",
    "import numpy as np\n",
    "\n",
    "from IPython.core.display import display, HTML\n",
    "display(HTML(\"<style>.container { width:100% !important; }</style>\"))\n",
    "\n",
    "import utils"
   ]
  },
  {
   "cell_type": "markdown",
   "metadata": {},
   "source": [
    "## Load Data"
   ]
  },
  {
   "cell_type": "code",
   "execution_count": null,
   "metadata": {},
   "outputs": [],
   "source": [
    "data = pd.read_csv('../rawData/Deep4Chem/DB for chromophore_Sci_Data_rev02.csv')\n",
    "\n",
    "# Loading the verified data and correcting any issue we found\n",
    "temp = pd.read_csv('../rawData/Deep4Chem/DoubleCheck-High Extinction.csv')[['Tag', 'Should be']]\n",
    "\n",
    "temp['log(Epsilon)'] = temp['Should be'].apply(lambda x: x if x != 'x' else np.nan).astype('float').apply(np.log10)\n",
    "\n",
    "data = data.merge(temp, on = 'Tag', how = 'left')\n",
    "data['log(Epsilon)'] = data['log(Epsilon)'].fillna(data['log(e/mol-1 dm3 cm-1)'])\n",
    "\n",
    "data.drop(['Tag', 'Reference', 'Should be', 'log(e/mol-1 dm3 cm-1)'], axis = 'columns', inplace = True)\n",
    "\n",
    "## Removing rows that don't have a log(Epsilon)\n",
    "#data = data[data['log(Epsilon)'].isnull() == False].copy().reset_index(drop = True)\n",
    "print('Total Count: ' + str(len(data)))\n",
    "data.head(1)"
   ]
  },
  {
   "cell_type": "markdown",
   "metadata": {},
   "source": [
    "Cleaning up data, converting strings to int/float data type and compressing integers"
   ]
  },
  {
   "cell_type": "markdown",
   "metadata": {},
   "source": [
    "Removing Entries with No Epsilon"
   ]
  },
  {
   "cell_type": "code",
   "execution_count": null,
   "metadata": {},
   "outputs": [],
   "source": [
    "data = data[data['log(Epsilon)'].isnull() == False].copy().reset_index(drop = True)"
   ]
  },
  {
   "cell_type": "code",
   "execution_count": null,
   "metadata": {},
   "outputs": [],
   "source": [
    "data.columns = data.columns.str.replace('_', ' ').str.title()\n",
    "utils.DropAllNullColumns(data)\n",
    "utils.ConvertStringColumnsToInt(data)\n",
    "utils.ConvertFloatColumnsToIntegerIfNoDataLoss(data)\n",
    "utils.CompressIntegerColumns(data)"
   ]
  },
  {
   "cell_type": "markdown",
   "metadata": {},
   "source": [
    "## Basic Analysis"
   ]
  },
  {
   "cell_type": "code",
   "execution_count": null,
   "metadata": {},
   "outputs": [],
   "source": [
    "data.info()"
   ]
  },
  {
   "cell_type": "code",
   "execution_count": null,
   "metadata": {},
   "outputs": [],
   "source": [
    "utils.InspectColumnValues(data)"
   ]
  },
  {
   "cell_type": "code",
   "execution_count": null,
   "metadata": {},
   "outputs": [],
   "source": [
    "data.describe()"
   ]
  },
  {
   "cell_type": "code",
   "execution_count": null,
   "metadata": {
    "scrolled": false
   },
   "outputs": [],
   "source": [
    "utils.ShowHistogramCharts(data)"
   ]
  },
  {
   "cell_type": "markdown",
   "metadata": {},
   "source": [
    "## Saving data for use later"
   ]
  },
  {
   "cell_type": "code",
   "execution_count": null,
   "metadata": {},
   "outputs": [],
   "source": [
    "utils.SaveDataToOutput(data, 'extraction-deep4Chem')\n",
    "utils.LoadDataFromOutput('extraction-deep4Chem')"
   ]
  },
  {
   "cell_type": "code",
   "execution_count": null,
   "metadata": {},
   "outputs": [],
   "source": []
  }
 ],
 "metadata": {
  "colab": {
   "authorship_tag": "ABX9TyNaRjtgyXFTP8JqrVitcXbm",
   "collapsed_sections": [],
   "name": "Dyomics_Data_Extraction.ipynb",
   "provenance": [],
   "toc_visible": true
  },
  "kernelspec": {
   "display_name": "Python 3 (ipykernel)",
   "language": "python",
   "name": "python3"
  },
  "language_info": {
   "codemirror_mode": {
    "name": "ipython",
    "version": 3
   },
   "file_extension": ".py",
   "mimetype": "text/x-python",
   "name": "python",
   "nbconvert_exporter": "python",
   "pygments_lexer": "ipython3",
   "version": "3.8.13"
  }
 },
 "nbformat": 4,
 "nbformat_minor": 1
}
