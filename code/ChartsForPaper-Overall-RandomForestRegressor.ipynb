{
 "cells": [
  {
   "cell_type": "markdown",
   "id": "976f458c",
   "metadata": {},
   "source": [
    "# Charts for paper - Random Forest Regressor\n",
    "\n",
    "## Purpose and Context\n",
    "\n",
    "This notebook is for creating all the regressor charts and data utilized in the final paper\n",
    "\n",
    "## Setup\n",
    "\n",
    "Import libraries"
   ]
  },
  {
   "cell_type": "code",
   "execution_count": null,
   "id": "6588cadb",
   "metadata": {},
   "outputs": [],
   "source": [
    "import pandas as pd\n",
    "import numpy as np\n",
    "import seaborn as sns\n",
    "import matplotlib.pyplot as plt\n",
    "\n",
    "from IPython.core.display import display, HTML\n",
    "display(HTML(\"<style>.container { width:100% !important; }</style>\"))\n",
    "\n",
    "import tqdm.notebook\n",
    "tqdm.notebook.tqdm_notebook.pandas()\n",
    "\n",
    "import dask\n",
    "import dask.dataframe as dd\n",
    "\n",
    "from dask.diagnostics import ProgressBar\n",
    "pbar = ProgressBar()                \n",
    "pbar.register() # global registration\n",
    "\n",
    "import sys\n",
    "import multiprocessing as mp\n",
    "\n",
    "if (sys.platform == 'win32' and mp.cpu_count() >= 61):\n",
    "    dask.config.set(num_workers = 61)\n",
    "    \n",
    "import utils\n",
    "import train\n",
    "import labels"
   ]
  },
  {
   "cell_type": "markdown",
   "id": "6be3557d",
   "metadata": {},
   "source": [
    "### Set Styles and colors"
   ]
  },
  {
   "cell_type": "code",
   "execution_count": null,
   "id": "9ec76953",
   "metadata": {},
   "outputs": [],
   "source": [
    "sns.set_theme(style = \"whitegrid\", font_scale = 1.1, font = 'Calibri')\n",
    "sns.despine(left = True)\n",
    "\n",
    "colors = ['#e66101', '#fdb863', '#b2abd2', '#5e3c99']\n",
    "sns.set_palette(sns.color_palette(colors))\n",
    "figureSize = (4, 3)\n",
    "padInches = 0.05"
   ]
  },
  {
   "cell_type": "markdown",
   "id": "62251f81",
   "metadata": {},
   "source": [
    "## Load Data"
   ]
  },
  {
   "cell_type": "code",
   "execution_count": null,
   "id": "ea795d5d",
   "metadata": {},
   "outputs": [],
   "source": [
    "development = utils.LoadDataFromOutput('dataset-development')\n",
    "validation = utils.LoadDataFromOutput('dataset-validation')\n",
    "print('Developement Dataset Count: ' + str(len(development)))\n",
    "print('Validate Dataset Count: ' + str(len(validation)))\n",
    "\n",
    "data = pd.concat([development, validation]).reset_index(drop = True)\n",
    "print('Total Count: ' + str(len(data)))\n",
    "print('Number of Training Features: ' + str(len(development.columns)))\n",
    "development.head(1)"
   ]
  },
  {
   "cell_type": "markdown",
   "id": "4204d7a1",
   "metadata": {},
   "source": [
    "### Load Model"
   ]
  },
  {
   "cell_type": "code",
   "execution_count": null,
   "id": "889a318b",
   "metadata": {},
   "outputs": [],
   "source": [
    "import ast\n",
    "\n",
    "regressorModelUsed = pd.read_parquet('modelUsed-RandomForestRegressor.gzip.parquet').iloc[0]\n",
    "regressorModelUsed['Thresholds'] = ast.literal_eval(regressorModelUsed['Thresholds'])\n",
    "\n",
    "regressorModelUsed['Model'] = train.TrainRandomForestRegressor(regressorModelUsed['Model Params'], regressorModelUsed['Trial Type'], regressorModelUsed['High Epsilon Weight']\n",
    "                                             , regressorModelUsed['Thresholds'], data)\n",
    "\n",
    "print('Model Used:')\n",
    "print(regressorModelUsed['Trial Type'])\n",
    "if (regressorModelUsed['Trial Type'] == 'Thresholds Trial'):\n",
    "    print('Thresholds: ' + str(regressorModelUsed['Thresholds']))\n",
    "else:\n",
    "    print('High Epsilon Weight: ' + str(regressorModelUsed['High Epsilon Weight']))\n",
    "display(regressorModelUsed['Model'])"
   ]
  },
  {
   "cell_type": "markdown",
   "id": "e1fd37a5",
   "metadata": {},
   "source": [
    "### Graph"
   ]
  },
  {
   "cell_type": "code",
   "execution_count": null,
   "id": "97b2cd7f",
   "metadata": {},
   "outputs": [],
   "source": [
    "def GraphResults(data, model, title, ax):\n",
    "    X, y = train.GetXandY(data)\n",
    "    y_weights = train.ComputeWeightsForRegressor(y, model['Trial Type'], model['High Epsilon Weight'], model['Thresholds'])\n",
    "    \n",
    "    predict_y = model['Model'].predict(X)\n",
    "    score = model['Model'].score(X, y, y_weights)\n",
    "    chart = sns.scatterplot(x = y / 1000, y = predict_y / 1000, ax = ax)\n",
    "    chart.set(title = title + ' Score: ' + format(score, '.2f'))\n",
    "    chart.xaxis.set_label_text('Actual ' + labels.EpsilonFull)\n",
    "    chart.yaxis.set_label_text('Predicted ' + labels.EpsilonFull)\n",
    "    chart.axvline(150, color = '#5e3c99')\n",
    "    chart.axhline(150, color = '#5e3c99')"
   ]
  },
  {
   "cell_type": "code",
   "execution_count": null,
   "id": "7b1f7d67",
   "metadata": {
    "scrolled": false
   },
   "outputs": [],
   "source": [
    "fig, axes = plt.subplots(ncols = 2, figsize = (8, 4), constrained_layout = True, sharey = True, sharex = True)\n",
    "GraphResults(development, regressorModelUsed, 'Development', axes[0])\n",
    "GraphResults(validation, regressorModelUsed, 'Validation', axes[1])\n",
    "\n",
    "fig.savefig('../output/chart-overall-RandomForestRegressor.png', bbox_inches = 'tight', dpi = 600)"
   ]
  },
  {
   "cell_type": "code",
   "execution_count": null,
   "id": "5e9b6726",
   "metadata": {},
   "outputs": [],
   "source": []
  }
 ],
 "metadata": {
  "kernelspec": {
   "display_name": "Python 3 (ipykernel)",
   "language": "python",
   "name": "python3"
  },
  "language_info": {
   "codemirror_mode": {
    "name": "ipython",
    "version": 3
   },
   "file_extension": ".py",
   "mimetype": "text/x-python",
   "name": "python",
   "nbconvert_exporter": "python",
   "pygments_lexer": "ipython3",
   "version": "3.9.7"
  }
 },
 "nbformat": 4,
 "nbformat_minor": 5
}
