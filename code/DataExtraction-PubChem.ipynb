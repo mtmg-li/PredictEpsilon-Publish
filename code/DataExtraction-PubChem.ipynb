{
 "cells": [
  {
   "cell_type": "markdown",
   "metadata": {
    "id": "UV8goW1kGMP1"
   },
   "source": [
    "# PubChem Data Extraction notebook\n",
    "\n",
    "## Purpose and Context\n",
    "\n",
    "This notebook will extract the data from PubChem's Compound TOC: UV Spectra list and store it in a parquet format\n",
    "\n",
    "Go to https://pubchem.ncbi.nlm.nih.gov/classification/ to download the lastest version and save it in \"/PredictEpsilon-Publish/rawData/PubChem/PubChem Compound TOC UV Spectra.csv\"\n",
    "\n",
    "## Setup\n",
    "\n",
    "import libraries"
   ]
  },
  {
   "cell_type": "code",
   "execution_count": null,
   "metadata": {},
   "outputs": [],
   "source": [
    "import pandas as pd\n",
    "import numpy as np\n",
    "\n",
    "from IPython.core.display import display, HTML\n",
    "display(HTML(\"<style>.container { width:100% !important; }</style>\"))\n",
    "\n",
    "import utils"
   ]
  },
  {
   "cell_type": "markdown",
   "metadata": {},
   "source": [
    "## Load Data"
   ]
  },
  {
   "cell_type": "code",
   "execution_count": null,
   "metadata": {},
   "outputs": [],
   "source": [
    "import os\n",
    "\n",
    "temp = []\n",
    "dataDirectory = '../rawData/PubChem/'\n",
    "for file in os.listdir(dataDirectory):\n",
    "    temp.append(pd.read_csv(os.path.join(dataDirectory, file)))\n",
    "    \n",
    "data = pd.concat(temp).drop_duplicates(ignore_index = True)\n",
    "data"
   ]
  },
  {
   "cell_type": "markdown",
   "metadata": {},
   "source": [
    "Cleaning up data, converting strings to int/float data type and compressing integers"
   ]
  },
  {
   "cell_type": "code",
   "execution_count": null,
   "metadata": {},
   "outputs": [],
   "source": [
    "data.columns = data.columns.str.replace('_', ' ').str.title()\n",
    "utils.DropAllNullColumns(data)\n",
    "utils.ConvertStringColumnsToInt(data)\n",
    "utils.ConvertFloatColumnsToIntegerIfNoDataLoss(data)\n",
    "utils.CompressIntegerColumns(data)"
   ]
  },
  {
   "cell_type": "markdown",
   "metadata": {},
   "source": [
    "## Basic Analysis"
   ]
  },
  {
   "cell_type": "code",
   "execution_count": null,
   "metadata": {},
   "outputs": [],
   "source": [
    "data.info()"
   ]
  },
  {
   "cell_type": "code",
   "execution_count": null,
   "metadata": {},
   "outputs": [],
   "source": [
    "utils.InspectColumnValues(data)"
   ]
  },
  {
   "cell_type": "code",
   "execution_count": null,
   "metadata": {},
   "outputs": [],
   "source": [
    "data.describe()"
   ]
  },
  {
   "cell_type": "code",
   "execution_count": null,
   "metadata": {
    "scrolled": false
   },
   "outputs": [],
   "source": [
    "utils.ShowHistogramCharts(data)"
   ]
  },
  {
   "cell_type": "markdown",
   "metadata": {},
   "source": [
    "## Saving data for use later"
   ]
  },
  {
   "cell_type": "code",
   "execution_count": null,
   "metadata": {},
   "outputs": [],
   "source": [
    "utils.SaveDataToOutput(data, 'extraction-pubChem')\n",
    "utils.LoadDataFromOutput('extraction-pubChem')"
   ]
  },
  {
   "cell_type": "code",
   "execution_count": null,
   "metadata": {},
   "outputs": [],
   "source": []
  }
 ],
 "metadata": {
  "colab": {
   "authorship_tag": "ABX9TyNaRjtgyXFTP8JqrVitcXbm",
   "collapsed_sections": [],
   "name": "Dyomics_Data_Extraction.ipynb",
   "provenance": [],
   "toc_visible": true
  },
  "kernelspec": {
   "display_name": "Python 3 (ipykernel)",
   "language": "python",
   "name": "python3"
  },
  "language_info": {
   "codemirror_mode": {
    "name": "ipython",
    "version": 3
   },
   "file_extension": ".py",
   "mimetype": "text/x-python",
   "name": "python",
   "nbconvert_exporter": "python",
   "pygments_lexer": "ipython3",
   "version": "3.8.13"
  }
 },
 "nbformat": 4,
 "nbformat_minor": 1
}
