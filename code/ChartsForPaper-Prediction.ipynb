{
 "cells": [
  {
   "cell_type": "markdown",
   "id": "976f458c",
   "metadata": {},
   "source": [
    "# Charts for paper - ε Prediction\n",
    "\n",
    "## Purpose and Context\n",
    "\n",
    "This notebook is for creating all the ε prediction charts and data utilized in the final paper\n",
    "\n",
    "## Setup\n",
    "\n",
    "Import libraries"
   ]
  },
  {
   "cell_type": "code",
   "execution_count": null,
   "id": "6588cadb",
   "metadata": {},
   "outputs": [],
   "source": [
    "import pandas as pd\n",
    "import numpy as np\n",
    "import seaborn as sns\n",
    "import matplotlib.pyplot as plt\n",
    "\n",
    "from IPython.core.display import display, HTML\n",
    "display(HTML(\"<style>.container { width:100% !important; }</style>\"))\n",
    "\n",
    "import tqdm.notebook\n",
    "tqdm.notebook.tqdm_notebook.pandas()\n",
    "\n",
    "import utils\n",
    "import train\n",
    "import labels"
   ]
  },
  {
   "cell_type": "markdown",
   "id": "6be3557d",
   "metadata": {},
   "source": [
    "### Set Styles and colors"
   ]
  },
  {
   "cell_type": "code",
   "execution_count": null,
   "id": "9ec76953",
   "metadata": {},
   "outputs": [],
   "source": [
    "sns.set_theme(style = \"whitegrid\", font_scale = 1.1, font = 'Calibri')\n",
    "sns.despine(left = True)\n",
    "\n",
    "colors = ['#e66101', '#fdb863', '#b2abd2', '#5e3c99']\n",
    "sns.set_palette(sns.color_palette(colors))\n",
    "figureSize = (4, 3)\n",
    "padInches = 0.05"
   ]
  },
  {
   "cell_type": "markdown",
   "id": "62251f81",
   "metadata": {},
   "source": [
    "### Load Data"
   ]
  },
  {
   "cell_type": "code",
   "execution_count": null,
   "id": "ea795d5d",
   "metadata": {},
   "outputs": [],
   "source": [
    "development = utils.LoadDataFromOutput('dataset-development')\n",
    "validation = utils.LoadDataFromOutput('dataset-validation')\n",
    "data = pd.concat([development, validation]).reset_index(drop = True)"
   ]
  },
  {
   "cell_type": "markdown",
   "id": "faf35351",
   "metadata": {},
   "source": [
    "### Load Model"
   ]
  },
  {
   "cell_type": "code",
   "execution_count": null,
   "id": "6c0b440e",
   "metadata": {
    "scrolled": true
   },
   "outputs": [],
   "source": [
    "import ast\n",
    "\n",
    "temp = pd.read_parquet('modelUsed-RandomForestRegressor.gzip.parquet').iloc[0]\n",
    "temp['Thresholds'] = ast.literal_eval(temp['Thresholds'])\n",
    "\n",
    "regressor = train.TrainRandomForestRegressor(temp['Model Params'], temp['Trial Type'], temp['High Epsilon Weight']\n",
    "                                             , temp['Thresholds'], data)\n",
    "\n",
    "print('Model Used:')\n",
    "print(temp['Trial Type'])\n",
    "if (temp['Trial Type'] == 'Thresholds Trial'):\n",
    "    print('Thresholds: ' + str(temp['Thresholds']))\n",
    "else:\n",
    "    print('High Epsilon Weight: ' + str(temp['High Epsilon Weight']))\n",
    "display(regressor)"
   ]
  },
  {
   "cell_type": "markdown",
   "id": "6aafc86b",
   "metadata": {},
   "source": [
    "## Experimental\n",
    "\n",
    "### Load Data"
   ]
  },
  {
   "cell_type": "code",
   "execution_count": null,
   "id": "da9a939e",
   "metadata": {},
   "outputs": [],
   "source": [
    "data = utils.LoadDataFromOutput('dataset-experimental')"
   ]
  },
  {
   "cell_type": "markdown",
   "id": "cc813613",
   "metadata": {},
   "source": [
    "### Results"
   ]
  },
  {
   "cell_type": "code",
   "execution_count": null,
   "id": "1708f06b",
   "metadata": {},
   "outputs": [],
   "source": [
    "results = data[['Source Key', 'Td-Dft (Debye)', 'Min Epsilon', 'Max Epsilon']].copy()\n",
    "results['Min Epsilon'] = results['Min Epsilon'] / 1000\n",
    "results.loc[results['Min Epsilon'] == 0, 'Min Epsilon'] = np.nan\n",
    "\n",
    "results['Max Epsilon'] = results['Max Epsilon'] / 1000\n",
    "results.loc[results['Max Epsilon'] == 0, 'Max Epsilon'] = np.nan\n",
    "\n",
    "emptyDataFrame = pd.DataFrame(columns = regressor.feature_names_in_)\n",
    "formatted = pd.concat([data, emptyDataFrame]).fillna(0)\n",
    "results['Regressor Prediction'] = regressor.predict(formatted[emptyDataFrame.columns]) / 1000\n",
    "\n",
    "results"
   ]
  },
  {
   "cell_type": "markdown",
   "id": "df4e3b20",
   "metadata": {},
   "source": [
    "### Graph"
   ]
  },
  {
   "cell_type": "code",
   "execution_count": null,
   "id": "876ab267",
   "metadata": {
    "scrolled": true
   },
   "outputs": [],
   "source": [
    "epsilons = results['Source Key'].to_frame().join(results[['Min Epsilon', 'Max Epsilon']].apply(pd.Series)).melt('Source Key').dropna()[['Source Key', 'value']]\n",
    "\n",
    "g = sns.lineplot(data = results, x = 'Source Key', y = 'Td-Dft (Debye)', color = '#5e3c99'\n",
    "                 , label = labels.TD_DFT, legend = False)\n",
    "g.axes.set_ylabel(labels.MuFull)\n",
    "\n",
    "ax2 = g.axes.twinx()\n",
    "sns.lineplot(data = epsilons, x = 'Source Key', y = 'value', color = '#e66101'\n",
    "                , label = 'Actual ' + labels.Epsilon + ' Range', legend = False, ax = ax2)\n",
    "\n",
    "sns.scatterplot(data = results, x = 'Source Key', y = 'Regressor Prediction', color = '#e66101'\n",
    "             , label = 'Pred. ' + labels.Epsilon, legend = False, ax = ax2, marker = 'd', s = 100)\n",
    "\n",
    "g.axes.figure.legend(bbox_to_anchor=(.75, .5), frameon = True)\n",
    "\n",
    "ax2.set_ylabel(labels.EpsilonFull)\n",
    "ax2.set_ylim((0, 300))\n",
    "g.axes.set_ylim((0, 22))\n",
    "g.set_xlabel('')\n",
    "utils.RotateAllXText([g])\n",
    "g.figure.tight_layout()\n",
    "\n",
    "g.figure.savefig('../output/chart-prediction-experimental.png', bbox_inches = 'tight', dpi = 600)"
   ]
  },
  {
   "cell_type": "markdown",
   "id": "a0504a9c",
   "metadata": {},
   "source": [
    "## Unknown Epsilon\n",
    "\n",
    "### Load Data"
   ]
  },
  {
   "cell_type": "code",
   "execution_count": null,
   "id": "154f1506",
   "metadata": {},
   "outputs": [],
   "source": [
    "data = utils.LoadDataFromOutput('dataset-unknownEpsilon')"
   ]
  },
  {
   "cell_type": "markdown",
   "id": "ff041c09",
   "metadata": {},
   "source": [
    "### Results"
   ]
  },
  {
   "cell_type": "code",
   "execution_count": null,
   "id": "cfa162f7",
   "metadata": {},
   "outputs": [],
   "source": [
    "results = data[['Source Key']].copy()\n",
    "\n",
    "emptyDataFrame = pd.DataFrame(columns = regressor.feature_names_in_)\n",
    "formatted = pd.concat([data, emptyDataFrame]).fillna(0)\n",
    "results['Regressor Prediction'] = regressor.predict(formatted[emptyDataFrame.columns]) / 1000\n",
    "\n",
    "results"
   ]
  },
  {
   "cell_type": "markdown",
   "id": "7ebf2b0b",
   "metadata": {},
   "source": [
    "### Graph"
   ]
  },
  {
   "cell_type": "code",
   "execution_count": null,
   "id": "be59472e",
   "metadata": {},
   "outputs": [],
   "source": [
    "g = sns.scatterplot(data = results, x = results.index, y = 'Regressor Prediction')\n",
    "g.set(xticklabels = [], ylabel = 'Regressor Predicted ' + labels.EpsilonFull)\n",
    "\n",
    "g.figure.savefig('../output/chart-prediction-unknown.png', bbox_inches = 'tight', dpi = 600)"
   ]
  },
  {
   "cell_type": "markdown",
   "id": "217deec5",
   "metadata": {},
   "source": [
    "### Saving dyes for DFT runs"
   ]
  },
  {
   "cell_type": "code",
   "execution_count": null,
   "id": "f7efb243",
   "metadata": {},
   "outputs": [],
   "source": [
    "combined = results.merge(data, on = 'Source Key')\n",
    "combined[(combined['Regressor Prediction'] >= 150)].to_csv('../output/highUnknownPredictions.csv')\n",
    "pd.read_csv('../output/highUnknownPredictions.csv')"
   ]
  },
  {
   "cell_type": "code",
   "execution_count": null,
   "id": "c108f2b5",
   "metadata": {},
   "outputs": [],
   "source": []
  }
 ],
 "metadata": {
  "kernelspec": {
   "display_name": "Python 3 (ipykernel)",
   "language": "python",
   "name": "python3"
  },
  "language_info": {
   "codemirror_mode": {
    "name": "ipython",
    "version": 3
   },
   "file_extension": ".py",
   "mimetype": "text/x-python",
   "name": "python",
   "nbconvert_exporter": "python",
   "pygments_lexer": "ipython3",
   "version": "3.9.7"
  }
 },
 "nbformat": 4,
 "nbformat_minor": 5
}
