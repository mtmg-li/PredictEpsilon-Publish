{
 "cells": [
  {
   "cell_type": "markdown",
   "id": "2c6a644f",
   "metadata": {},
   "source": [
    "# Build Training Datasets Notebook\n",
    "\n",
    "## Purpose and Context\n",
    "\n",
    "This notebook combines PhotochemCAD 3, Dyomics and Deep4Chem data into a development and validation dataset with known epsilons to be used to train and validate models to predict epsilon.\n",
    "\n",
    "Since this dataset has SMILES format the chemical compound and molecular weight will come from it instead of the main source if it was provided.\n",
    "\n",
    "\n",
    "## Setup\n",
    "\n",
    "import libraries"
   ]
  },
  {
   "cell_type": "code",
   "execution_count": null,
   "id": "b2e68ba7",
   "metadata": {},
   "outputs": [],
   "source": [
    "import pandas as pd\n",
    "import numpy as np\n",
    "\n",
    "from IPython.core.display import display, HTML\n",
    "display(HTML(\"<style>.container { width:100% !important; }</style>\"))\n",
    "\n",
    "import utils\n",
    "import features\n",
    "\n",
    "from rdkit import Chem\n",
    "\n",
    "import tqdm.notebook\n",
    "tqdm.notebook.tqdm_notebook.pandas()"
   ]
  },
  {
   "cell_type": "markdown",
   "id": "80fb1e6a",
   "metadata": {},
   "source": [
    "## Load Data\n",
    "\n",
    "### Deep4Chem"
   ]
  },
  {
   "cell_type": "code",
   "execution_count": null,
   "id": "fd201f89",
   "metadata": {},
   "outputs": [],
   "source": [
    "temp = utils.LoadDataFromOutput('extraction-deep4Chem')\n",
    "temp['Source'] = 'Deep4Chem'\n",
    "print(len(temp))\n",
    "temp.head(1)"
   ]
  },
  {
   "cell_type": "code",
   "execution_count": null,
   "id": "4cedda20",
   "metadata": {},
   "outputs": [],
   "source": [
    "temp['Epsilon'] = temp['Log(Epsilon)'].apply(lambda x: 10**x)\n",
    "\n",
    "temp['Smiles'] = temp['Chromophore']\n",
    "temp.rename(columns = {'Chromophore': 'Source Key'}, inplace = True)\n",
    "\n",
    "temp = temp[['Source', 'Source Key', 'Epsilon', 'Smiles']]\n",
    "\n",
    "data = temp.copy()"
   ]
  },
  {
   "cell_type": "markdown",
   "id": "7b8320ac",
   "metadata": {},
   "source": [
    "### PhotoChemCad 3"
   ]
  },
  {
   "cell_type": "code",
   "execution_count": null,
   "id": "4fd071bc",
   "metadata": {},
   "outputs": [],
   "source": [
    "temp = utils.LoadDataFromOutput('extraction-photochemCad3')\n",
    "temp['Source'] = 'PhotoChemCAD3'\n",
    "temp.columns = temp.columns.str.replace('_', ' ').str.title()\n",
    "print(len(temp))\n",
    "temp.head(1)"
   ]
  },
  {
   "cell_type": "code",
   "execution_count": null,
   "id": "f54e5261",
   "metadata": {},
   "outputs": [],
   "source": [
    "temp.rename(columns = {'Name': 'Source Key'}, inplace = True)\n",
    "\n",
    "temp = temp[['Source', 'Source Key', 'Epsilon', 'Smiles']]\n",
    "\n",
    "data = data.append(temp)"
   ]
  },
  {
   "cell_type": "markdown",
   "id": "01e4ec7f",
   "metadata": {},
   "source": [
    "### Dyomics"
   ]
  },
  {
   "cell_type": "code",
   "execution_count": null,
   "id": "5dff63e2",
   "metadata": {},
   "outputs": [],
   "source": [
    "temp = utils.LoadDataFromOutput('extraction-dyomics')\n",
    "temp['Source'] = 'Dyomics'\n",
    "temp.columns = temp.columns.str.replace('_', ' ').str.title()\n",
    "print(len(temp))\n",
    "temp.head(1)"
   ]
  },
  {
   "cell_type": "code",
   "execution_count": null,
   "id": "d71fc2a2",
   "metadata": {},
   "outputs": [],
   "source": [
    "temp.rename(columns = {'Molar Absorbance': 'Epsilon', 'Name': 'Source Key'}, inplace = True)\n",
    "\n",
    "temp = temp[['Source', 'Source Key', 'Epsilon', 'Smiles']]\n",
    "\n",
    "data = data.append(temp)\n",
    "data.reset_index(drop = True, inplace = True)\n",
    "data"
   ]
  },
  {
   "cell_type": "markdown",
   "id": "e978e511",
   "metadata": {},
   "source": [
    "## Compute Features"
   ]
  },
  {
   "cell_type": "code",
   "execution_count": null,
   "id": "388f2fd1",
   "metadata": {
    "scrolled": false
   },
   "outputs": [],
   "source": [
    "temp = data['Smiles'].drop_duplicates().to_frame()\n",
    "\n",
    "temp = temp.join(temp['Smiles'].progress_apply(features.ComputeAllFeatures).apply(lambda x: pd.Series(x, dtype = 'object'))).fillna(0)\n",
    "\n",
    "data = data.merge(temp, on = 'Smiles')"
   ]
  },
  {
   "cell_type": "markdown",
   "id": "472f9211",
   "metadata": {},
   "source": [
    "Removing data that didn't calculate all the features"
   ]
  },
  {
   "cell_type": "code",
   "execution_count": null,
   "id": "c163593d",
   "metadata": {},
   "outputs": [],
   "source": [
    "if ('Error' in data.columns):\n",
    "    data = data[data['Error'] != True].reset_index(drop = True)\n",
    "    data.drop(['Error'], axis = 'columns', inplace = True)"
   ]
  },
  {
   "cell_type": "markdown",
   "id": "3f509ce2",
   "metadata": {},
   "source": [
    "### Saving for later use"
   ]
  },
  {
   "cell_type": "code",
   "execution_count": null,
   "id": "149e465c",
   "metadata": {
    "scrolled": true
   },
   "outputs": [],
   "source": [
    "# Standardizing Column names\n",
    "data.columns = data.columns.str.replace('_', ' ').str.title()\n",
    "\n",
    "# Compressing data\n",
    "utils.ConvertFloatColumnsToIntegerIfNoDataLoss(data)\n",
    "utils.CompressIntegerColumns(data)"
   ]
  },
  {
   "cell_type": "code",
   "execution_count": null,
   "id": "4e725920",
   "metadata": {
    "scrolled": true
   },
   "outputs": [],
   "source": [
    "utils.SaveDataToOutput(data, 'dataset-allKnownEpsilon')\n",
    "utils.LoadDataFromOutput('dataset-allKnownEpsilon')"
   ]
  },
  {
   "cell_type": "markdown",
   "id": "af916985",
   "metadata": {},
   "source": [
    "### Cleaning up data"
   ]
  },
  {
   "cell_type": "code",
   "execution_count": null,
   "id": "bd606221",
   "metadata": {
    "scrolled": true
   },
   "outputs": [],
   "source": [
    "data.drop(['Source', 'Source Key', 'Smiles', 'Inchikey'], axis = 'columns', inplace = True)\n",
    "data.head(1)"
   ]
  },
  {
   "cell_type": "markdown",
   "id": "84f36e7a",
   "metadata": {},
   "source": [
    "Removing any entry that has an Epsilon >= 800K as it seems too good to be true and any entry that has an infinate value"
   ]
  },
  {
   "cell_type": "code",
   "execution_count": null,
   "id": "ccbf1331",
   "metadata": {
    "scrolled": true
   },
   "outputs": [],
   "source": [
    "limit = 800000\n",
    "print('Number of entries >= 800K: ' + str(len(data[data['Epsilon'] >= limit])))\n",
    "data = data[data['Epsilon'] < limit].copy()\n",
    "\n",
    "print('Columns with infinate values: ' + str(data.columns[np.isinf(data).any()].values))\n",
    "print('Number of entries with infinate values: ' + str(len(data.index[np.isinf(data).any(1)])))\n",
    "\n",
    "data.replace([np.inf, -np.inf], np.nan, inplace = True)\n",
    "data.dropna(inplace = True)\n",
    "data.reset_index(drop = True, inplace = True)"
   ]
  },
  {
   "cell_type": "code",
   "execution_count": null,
   "id": "a004ace1",
   "metadata": {
    "scrolled": true
   },
   "outputs": [],
   "source": [
    "utils.RemoveStaticColumns(data)\n",
    "print('-----------------')\n",
    "print('-----------------')\n",
    "print('-----------------')\n",
    "utils.RemoveDuplicateColumns(data)"
   ]
  },
  {
   "cell_type": "markdown",
   "id": "d07b4b23",
   "metadata": {},
   "source": [
    "## Basic Analysis"
   ]
  },
  {
   "cell_type": "code",
   "execution_count": null,
   "id": "5520b8ec",
   "metadata": {},
   "outputs": [],
   "source": [
    "data.info()"
   ]
  },
  {
   "cell_type": "code",
   "execution_count": null,
   "id": "72cc7854",
   "metadata": {},
   "outputs": [],
   "source": [
    "utils.InspectColumnValues(data)"
   ]
  },
  {
   "cell_type": "code",
   "execution_count": null,
   "id": "c21f97b1",
   "metadata": {},
   "outputs": [],
   "source": [
    "data.describe()"
   ]
  },
  {
   "cell_type": "code",
   "execution_count": null,
   "id": "8b136270",
   "metadata": {
    "scrolled": true
   },
   "outputs": [],
   "source": [
    "utils.ShowHistogramCharts(data)"
   ]
  },
  {
   "cell_type": "markdown",
   "id": "2e05ce57",
   "metadata": {},
   "source": [
    "## Building Validation and Development Dataset and saving for use later"
   ]
  },
  {
   "cell_type": "code",
   "execution_count": null,
   "id": "114d4511",
   "metadata": {},
   "outputs": [],
   "source": [
    "def SplitData(data):\n",
    "    validation = data.sample(frac = .1, random_state = 82219)\n",
    "    development_mask = pd.Series(True, index = data.index)\n",
    "    development_mask[validation.index] = False\n",
    "    development = data[development_mask].copy()\n",
    "    development.reset_index(drop = True, inplace = True)\n",
    "    validation.reset_index(drop = True, inplace = True)\n",
    "    \n",
    "    return development, validation"
   ]
  },
  {
   "cell_type": "code",
   "execution_count": null,
   "id": "8a6ffd52",
   "metadata": {},
   "outputs": [],
   "source": [
    "development, validation = SplitData(data)"
   ]
  },
  {
   "cell_type": "code",
   "execution_count": null,
   "id": "3ad283ab",
   "metadata": {
    "scrolled": true
   },
   "outputs": [],
   "source": [
    "utils.SaveDataToOutput(development, 'dataset-development')\n",
    "utils.LoadDataFromOutput('dataset-development')"
   ]
  },
  {
   "cell_type": "code",
   "execution_count": null,
   "id": "f0bbf74f",
   "metadata": {},
   "outputs": [],
   "source": [
    "utils.SaveDataToOutput(validation, 'dataset-validation')\n",
    "utils.LoadDataFromOutput('dataset-validation')"
   ]
  },
  {
   "cell_type": "code",
   "execution_count": null,
   "id": "8be76ba9",
   "metadata": {},
   "outputs": [],
   "source": [
    "print('Number of entries in development dataset: ' + str(len(development)))\n",
    "print('Number of entries in validation dataset: ' + str(len(validation)))"
   ]
  },
  {
   "cell_type": "code",
   "execution_count": null,
   "id": "6cdecb24",
   "metadata": {},
   "outputs": [],
   "source": []
  }
 ],
 "metadata": {
  "kernelspec": {
   "display_name": "Python 3 (ipykernel)",
   "language": "python",
   "name": "python3"
  },
  "language_info": {
   "codemirror_mode": {
    "name": "ipython",
    "version": 3
   },
   "file_extension": ".py",
   "mimetype": "text/x-python",
   "name": "python",
   "nbconvert_exporter": "python",
   "pygments_lexer": "ipython3",
   "version": "3.8.13"
  }
 },
 "nbformat": 4,
 "nbformat_minor": 5
}
