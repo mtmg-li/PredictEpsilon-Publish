{
 "cells": [
  {
   "cell_type": "markdown",
   "id": "2c6a644f",
   "metadata": {},
   "source": [
    "# Build Experimental Dataset Notebook\n",
    "\n",
    "## Purpose and Context\n",
    "\n",
    "This notebook gets the experimental data we already have in a usable format for us to do predictions on to compare to the actual values we found in our experiments\n",
    "\n",
    "## Setup\n",
    "\n",
    "import libraries"
   ]
  },
  {
   "cell_type": "code",
   "execution_count": null,
   "id": "b2e68ba7",
   "metadata": {},
   "outputs": [],
   "source": [
    "import pandas as pd\n",
    "import numpy as np\n",
    "import seaborn as sns\n",
    "import matplotlib.pyplot as plt\n",
    "\n",
    "from IPython.core.display import display, HTML\n",
    "display(HTML(\"<style>.container { width:100% !important; }</style>\"))\n",
    "\n",
    "import utils\n",
    "import features\n",
    "\n",
    "import tqdm.notebook\n",
    "tqdm.notebook.tqdm_notebook.pandas()"
   ]
  },
  {
   "cell_type": "markdown",
   "id": "80fb1e6a",
   "metadata": {},
   "source": [
    "## Load Data"
   ]
  },
  {
   "cell_type": "code",
   "execution_count": null,
   "id": "4cedda20",
   "metadata": {},
   "outputs": [],
   "source": [
    "data = pd.read_csv('../rawData/Experimental_SMILES_Predictions.csv')\n",
    "\n",
    "data.rename(columns = {'SMILES': 'Smiles', 'Min ε': 'Min Epsilon', 'Max ε': 'Max Epsilon', 'Dye': 'Source Key', 'TD-DFT μ (D)': 'TD-DFT (Debye)'}, inplace = True)\n",
    "\n",
    "data = data[['Source Key', 'TD-DFT (Debye)', 'Min Epsilon', 'Max Epsilon', 'Smiles']]\n",
    "data"
   ]
  },
  {
   "cell_type": "markdown",
   "id": "e978e511",
   "metadata": {},
   "source": [
    "## Compute Features"
   ]
  },
  {
   "cell_type": "code",
   "execution_count": null,
   "id": "388f2fd1",
   "metadata": {
    "scrolled": true
   },
   "outputs": [],
   "source": [
    "data = data.join(data['Smiles'].progress_apply(features.ComputeAllFeatures).apply(lambda x: pd.Series(x, dtype = 'object'))).fillna(0)"
   ]
  },
  {
   "cell_type": "markdown",
   "id": "3f509ce2",
   "metadata": {},
   "source": [
    "### Saving for later use"
   ]
  },
  {
   "cell_type": "code",
   "execution_count": null,
   "id": "149e465c",
   "metadata": {
    "scrolled": true
   },
   "outputs": [],
   "source": [
    "# Standardizing Column names\n",
    "data.columns = data.columns.str.replace('_', ' ').str.title()\n",
    "\n",
    "# Compressing data\n",
    "utils.ConvertFloatColumnsToIntegerIfNoDataLoss(data)\n",
    "utils.CompressIntegerColumns(data)"
   ]
  },
  {
   "cell_type": "markdown",
   "id": "af916985",
   "metadata": {},
   "source": [
    "### Cleaning up data"
   ]
  },
  {
   "cell_type": "code",
   "execution_count": null,
   "id": "bd606221",
   "metadata": {
    "scrolled": true
   },
   "outputs": [],
   "source": [
    "data.drop(['Smiles', 'Inchikey'], axis = 'columns', inplace = True)\n",
    "data.head(1)"
   ]
  },
  {
   "cell_type": "code",
   "execution_count": null,
   "id": "a004ace1",
   "metadata": {
    "scrolled": true
   },
   "outputs": [],
   "source": [
    "utils.RemoveStaticColumns(data)\n",
    "print('-----------------')\n",
    "print('-----------------')\n",
    "print('-----------------')\n",
    "utils.RemoveDuplicateColumns(data)"
   ]
  },
  {
   "cell_type": "markdown",
   "id": "d07b4b23",
   "metadata": {},
   "source": [
    "## Basic Analysis"
   ]
  },
  {
   "cell_type": "code",
   "execution_count": null,
   "id": "5520b8ec",
   "metadata": {
    "scrolled": true
   },
   "outputs": [],
   "source": [
    "data.info()"
   ]
  },
  {
   "cell_type": "code",
   "execution_count": null,
   "id": "72cc7854",
   "metadata": {},
   "outputs": [],
   "source": [
    "utils.InspectColumnValues(data)"
   ]
  },
  {
   "cell_type": "code",
   "execution_count": null,
   "id": "c21f97b1",
   "metadata": {},
   "outputs": [],
   "source": [
    "data.describe()"
   ]
  },
  {
   "cell_type": "code",
   "execution_count": null,
   "id": "8b136270",
   "metadata": {
    "scrolled": true
   },
   "outputs": [],
   "source": [
    "utils.ShowHistogramCharts(data)"
   ]
  },
  {
   "cell_type": "markdown",
   "id": "2e05ce57",
   "metadata": {},
   "source": [
    "## Saving for use later"
   ]
  },
  {
   "cell_type": "code",
   "execution_count": null,
   "id": "f0bbf74f",
   "metadata": {},
   "outputs": [],
   "source": [
    "utils.SaveDataToOutput(data, 'dataset-experimental')\n",
    "utils.LoadDataFromOutput('dataset-experimental')"
   ]
  },
  {
   "cell_type": "code",
   "execution_count": null,
   "id": "6cdecb24",
   "metadata": {},
   "outputs": [],
   "source": []
  }
 ],
 "metadata": {
  "kernelspec": {
   "display_name": "Python 3 (ipykernel)",
   "language": "python",
   "name": "python3"
  },
  "language_info": {
   "codemirror_mode": {
    "name": "ipython",
    "version": 3
   },
   "file_extension": ".py",
   "mimetype": "text/x-python",
   "name": "python",
   "nbconvert_exporter": "python",
   "pygments_lexer": "ipython3",
   "version": "3.8.13"
  }
 },
 "nbformat": 4,
 "nbformat_minor": 5
}
