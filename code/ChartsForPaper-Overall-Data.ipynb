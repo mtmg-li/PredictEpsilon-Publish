{
 "cells": [
  {
   "cell_type": "markdown",
   "id": "976f458c",
   "metadata": {},
   "source": [
    "# Charts for paper - Overall Data Statistics\n",
    "\n",
    "## Purpose and Context\n",
    "\n",
    "This notebook is for creating the overall data charts and data utilized in the final paper\n",
    "\n",
    "## Setup\n",
    "\n",
    "Import libraries"
   ]
  },
  {
   "cell_type": "code",
   "execution_count": null,
   "id": "6588cadb",
   "metadata": {},
   "outputs": [],
   "source": [
    "import pandas as pd\n",
    "import numpy as np\n",
    "import seaborn as sns\n",
    "import matplotlib.pyplot as plt\n",
    "\n",
    "from IPython.core.display import display, HTML\n",
    "display(HTML(\"<style>.container { width:100% !important; }</style>\"))\n",
    "\n",
    "import tqdm.notebook\n",
    "tqdm.notebook.tqdm_notebook.pandas()\n",
    "\n",
    "import utils\n",
    "import labels"
   ]
  },
  {
   "cell_type": "markdown",
   "id": "6be3557d",
   "metadata": {},
   "source": [
    "### Set Styles and colors"
   ]
  },
  {
   "cell_type": "code",
   "execution_count": null,
   "id": "9ec76953",
   "metadata": {},
   "outputs": [],
   "source": [
    "sns.set_theme(style = \"whitegrid\", font_scale = 1.1, font = 'Calibri')\n",
    "sns.despine(left = True)\n",
    "\n",
    "colors = ['#e66101', '#fdb863', '#b2abd2', '#5e3c99']\n",
    "sns.set_palette(sns.color_palette(colors))\n",
    "figureSize = (4, 3)\n",
    "padInches = 0.05"
   ]
  },
  {
   "cell_type": "markdown",
   "id": "12f505fa",
   "metadata": {},
   "source": [
    "## Overall Data Charts\n",
    "\n",
    "### Load Data"
   ]
  },
  {
   "cell_type": "code",
   "execution_count": null,
   "id": "a84959e1",
   "metadata": {},
   "outputs": [],
   "source": [
    "data = utils.LoadDataFromOutput('dataset-allKnownEpsilon')\n",
    "data.head(1)\n",
    "\n",
    "limit = 800000\n",
    "print('Number of entries >= 800K: ' + str(len(data[data['Epsilon'] >= limit])))\n",
    "data = data[data['Epsilon'] < limit].copy()\n",
    "\n",
    "numberColumns = data.select_dtypes(exclude = 'object').columns\n",
    "print('Columns with infinate values: ' + str(data[numberColumns].columns[np.isinf(data[numberColumns]).any()].values))\n",
    "print('Number of entries with infinate values: ' + str(len(data[numberColumns].index[np.isinf(data[numberColumns]).any(1)])))\n",
    "data.replace([np.inf, -np.inf], np.nan, inplace = True)\n",
    "data.dropna(inplace = True)\n",
    "data.reset_index(drop = True, inplace = True)"
   ]
  },
  {
   "cell_type": "code",
   "execution_count": null,
   "id": "ee441e6a",
   "metadata": {},
   "outputs": [],
   "source": [
    "graphData = data[data['Epsilon'] != -1].copy()\n",
    "graphData['IsHigh'] = graphData['Epsilon'] >= 150000\n",
    "graphData = graphData.groupby(['Source']).agg(Total = ('IsHigh', 'count'), High_ε = ('IsHigh', 'sum')).reset_index()\n",
    "\n",
    "temp = graphData.sum()\n",
    "temp['Source'] = 'Total'\n",
    "temp.to_frame().T\n",
    "\n",
    "graphData = pd.concat([temp.to_frame().T, graphData])\n",
    "graphData\n",
    "\n",
    "graphData.columns = graphData.columns.str.replace('_', ' ')\n",
    "graphData['Low ' + labels.Epsilon] = graphData['Total'] - graphData['High ' + labels.Epsilon]\n",
    "graphData = graphData[['Source', 'Low ' + labels.Epsilon, 'High ' + labels.Epsilon]].melt(id_vars = 'Source')\n",
    "\n",
    "g = sns.barplot(data = graphData, x = 'Source', y = 'value', hue = 'variable', palette = [colors[1], colors[0]])\n",
    "g.set_ylabel('Count')\n",
    "for ax in g.axes.containers:\n",
    "    g.axes.bar_label(ax, label_type = 'edge')\n",
    "\n",
    "g.legend(title = '');\n",
    "g.figure.tight_layout()\n",
    "g.get_figure().savefig('../output/chart-overall-data.png', bbox_inches = 'tight', dpi = 600)"
   ]
  },
  {
   "cell_type": "code",
   "execution_count": null,
   "id": "a4b72a27",
   "metadata": {},
   "outputs": [],
   "source": []
  }
 ],
 "metadata": {
  "kernelspec": {
   "display_name": "Python 3 (ipykernel)",
   "language": "python",
   "name": "python3"
  },
  "language_info": {
   "codemirror_mode": {
    "name": "ipython",
    "version": 3
   },
   "file_extension": ".py",
   "mimetype": "text/x-python",
   "name": "python",
   "nbconvert_exporter": "python",
   "pygments_lexer": "ipython3",
   "version": "3.8.13"
  }
 },
 "nbformat": 4,
 "nbformat_minor": 5
}
