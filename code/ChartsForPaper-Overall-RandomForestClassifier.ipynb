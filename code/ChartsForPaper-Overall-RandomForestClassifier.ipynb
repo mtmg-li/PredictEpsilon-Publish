{
 "cells": [
  {
   "cell_type": "markdown",
   "id": "976f458c",
   "metadata": {},
   "source": [
    "# Charts for paper - Random Forest Classifier\n",
    "\n",
    "## Purpose and Context\n",
    "\n",
    "This notebook is for creating the classifier charts and data utilized in the final paper\n",
    "\n",
    "## Setup\n",
    "\n",
    "Import libraries"
   ]
  },
  {
   "cell_type": "code",
   "execution_count": null,
   "id": "6588cadb",
   "metadata": {},
   "outputs": [],
   "source": [
    "import pandas as pd\n",
    "import numpy as np\n",
    "import seaborn as sns\n",
    "import matplotlib.pyplot as plt\n",
    "\n",
    "from IPython.core.display import display, HTML\n",
    "display(HTML(\"<style>.container { width:100% !important; }</style>\"))\n",
    "\n",
    "import tqdm.notebook\n",
    "tqdm.notebook.tqdm_notebook.pandas()\n",
    "\n",
    "import utils\n",
    "import labels\n",
    "import train"
   ]
  },
  {
   "cell_type": "markdown",
   "id": "6be3557d",
   "metadata": {},
   "source": [
    "### Set Styles and colors"
   ]
  },
  {
   "cell_type": "code",
   "execution_count": null,
   "id": "9ec76953",
   "metadata": {},
   "outputs": [],
   "source": [
    "sns.set_theme(style = \"whitegrid\", font_scale = 1.1, font = 'Calibri')\n",
    "sns.despine(left = True)\n",
    "\n",
    "colors = ['#e66101', '#fdb863', '#b2abd2', '#5e3c99']\n",
    "sns.set_palette(sns.color_palette(colors))\n",
    "figureSize = (4, 3)\n",
    "padInches = 0.05"
   ]
  },
  {
   "cell_type": "markdown",
   "id": "62251f81",
   "metadata": {},
   "source": [
    "## Training results\n",
    "\n",
    "### Load Data"
   ]
  },
  {
   "cell_type": "code",
   "execution_count": null,
   "id": "ea795d5d",
   "metadata": {},
   "outputs": [],
   "source": [
    "development = utils.LoadDataFromOutput('dataset-development')\n",
    "validation = utils.LoadDataFromOutput('dataset-validation')\n",
    "print('Developement Dataset Count: ' + str(len(development)))\n",
    "print('Validate Dataset Count: ' + str(len(validation)))\n",
    "\n",
    "data = pd.concat([development, validation]).reset_index(drop = True)\n",
    "print('Total Count: ' + str(len(data)))\n",
    "print('Number of Training Features: ' + str(len(development.columns)))\n",
    "development.head(1)"
   ]
  },
  {
   "cell_type": "code",
   "execution_count": null,
   "id": "1d777b7a",
   "metadata": {
    "scrolled": true
   },
   "outputs": [],
   "source": [
    "import ast\n",
    "\n",
    "models = pd.read_parquet('trainedModels-RandomForestClassifier.gzip.parquet')\n",
    "models['Model Params'] = models['Model'].apply(ast.literal_eval)\n",
    "models.head(1)"
   ]
  },
  {
   "cell_type": "markdown",
   "id": "6620f74a",
   "metadata": {},
   "source": [
    "### Classifier Results\n",
    "\n",
    "#### Functions"
   ]
  },
  {
   "cell_type": "code",
   "execution_count": null,
   "id": "e476d907",
   "metadata": {},
   "outputs": [],
   "source": [
    "import sklearn.metrics as skm\n",
    "\n",
    "def ComputeAllowsLowAccuracy(threshold, data):\n",
    "    _, y = train.GetXandY(data)\n",
    "    y = train.ComputeLabel(y, threshold)\n",
    "    \n",
    "    y_pred = data['Epsilon'].apply(lambda x: 'low ε')\n",
    "\n",
    "    return skm.accuracy_score(y, y_pred)"
   ]
  },
  {
   "cell_type": "markdown",
   "id": "3fe82883",
   "metadata": {},
   "source": [
    "#### Best Model with the least amount of information"
   ]
  },
  {
   "cell_type": "code",
   "execution_count": null,
   "id": "a2cca151",
   "metadata": {
    "scrolled": true
   },
   "outputs": [],
   "source": [
    "temp = models.copy()\n",
    "temp = temp.join(temp['Model Params'].apply(lambda x: pd.Series(x, dtype = 'object')))\n",
    "temp['Accuracy'] = temp['Accuracy'].apply(lambda x: np.round(x, 2))"
   ]
  },
  {
   "cell_type": "markdown",
   "id": "a9fb7818",
   "metadata": {},
   "source": [
    "Computing the amount of information encoded"
   ]
  },
  {
   "cell_type": "code",
   "execution_count": null,
   "id": "25339a85",
   "metadata": {},
   "outputs": [],
   "source": [
    "temp['Total Information Used'] = temp.apply(lambda row: train.ComputeTotalInfomationUsed(row, len(development.columns)), axis = 'columns')"
   ]
  },
  {
   "cell_type": "markdown",
   "id": "73538e4e",
   "metadata": {},
   "source": [
    " Selecting the models with the highest accuracy and the lowest information used"
   ]
  },
  {
   "cell_type": "code",
   "execution_count": null,
   "id": "3642f277",
   "metadata": {},
   "outputs": [],
   "source": [
    "maxAccuracy = temp.groupby(['Threshold']).max('Accuracy')['Accuracy'].reset_index()\n",
    "maxAccuracy\n",
    "totalInformationUsed = temp.merge(maxAccuracy, on = ['Threshold', 'Accuracy']).groupby(['Threshold']).min('Total Information Used')[['Accuracy', 'Total Information Used']].reset_index()"
   ]
  },
  {
   "cell_type": "markdown",
   "id": "833ef734",
   "metadata": {},
   "source": [
    "Selecting the models with the highest precision"
   ]
  },
  {
   "cell_type": "code",
   "execution_count": null,
   "id": "9c5e6669",
   "metadata": {},
   "outputs": [],
   "source": [
    "mostAccurateAndPreciseWithTheLeastAmountOfInformation = temp.merge(totalInformationUsed, on = ['Threshold', 'Accuracy', 'Total Information Used']).groupby(['Threshold']).max('Precision (High ε)').reset_index()\n",
    "bestModels = temp.merge(mostAccurateAndPreciseWithTheLeastAmountOfInformation[['Threshold', 'Accuracy', 'Total Information Used', 'Precision (High ε)']], on = ['Threshold', 'Accuracy', 'Total Information Used', 'Precision (High ε)'])"
   ]
  },
  {
   "cell_type": "markdown",
   "id": "d27d9776",
   "metadata": {},
   "source": [
    "If there are still multiple models, then take the first one since they are identical from our point of view"
   ]
  },
  {
   "cell_type": "code",
   "execution_count": null,
   "id": "365150f4",
   "metadata": {},
   "outputs": [],
   "source": [
    "bestModels = bestModels.groupby(['Threshold']).first().reset_index()"
   ]
  },
  {
   "cell_type": "code",
   "execution_count": null,
   "id": "f8a577bf",
   "metadata": {
    "scrolled": false
   },
   "outputs": [],
   "source": [
    "bestModels['Model'] = bestModels.progress_apply(lambda x: train.TrainRandomForestClassifier(x['Model Params'], x['Threshold'], development), axis = 'columns')\n",
    "bestModels['Random Forest Classifier(Development)'] = bestModels.apply(lambda x: train.ComputeClassifierAccuracy(x['Model'], x['Threshold'], development), axis = 'columns')\n",
    "bestModels['Random Forest Classifier(Validation)'] = bestModels.apply(lambda x: train.ComputeClassifierAccuracy(x['Model'], x['Threshold'], validation), axis = 'columns')\n",
    "bestModels['Always Low ε(Development)'] = bestModels.apply(lambda x: ComputeAllowsLowAccuracy(x['Threshold'], development), axis = 'columns')\n",
    "bestModels['Always Low ε(Validation)'] = bestModels.apply(lambda x: ComputeAllowsLowAccuracy(x['Threshold'], validation), axis = 'columns')\n",
    "bestModels.head(1)\n",
    "\n",
    "from sklearn.utils import resample\n",
    "\n",
    "classifierModelUsed = bestModels.iloc[1]\n",
    "\n",
    "low = data[data['Epsilon'] < classifierModelUsed['Threshold']].reset_index(drop = True).copy()\n",
    "high = data[data['Epsilon'] >= classifierModelUsed['Threshold']].reset_index(drop = True).copy()\n",
    "total = len(low) + len(high)\n",
    "\n",
    "percentageLowRuns = []\n",
    "for lowPercent in range(50, 100, 2):\n",
    "    lowPercent = lowPercent / 100\n",
    "    numberOfHighsNeeded = int(len(low) / lowPercent - len(low))\n",
    "    newHighs = resample(high, n_samples = numberOfHighsNeeded, random_state = 82219)\n",
    "    lowEpsilonDevelopment, lowEpsilonValidation = train.SplitData(pd.concat([low, newHighs], ignore_index = True))\n",
    "\n",
    "    percentageLowRuns.append([lowPercent, lowEpsilonDevelopment, lowEpsilonValidation])\n",
    "    \n",
    "percentageLowRuns = pd.DataFrame(percentageLowRuns, columns = ['Percentage Low ε', 'Development', 'Validation'])\n",
    "\n",
    "percentageLowRuns['Model'] = percentageLowRuns.progress_apply(lambda x: train.TrainRandomForestClassifier(classifierModelUsed['Model Params'], classifierModelUsed['Threshold'], x['Development']), axis = 'columns')\n",
    "percentageLowRuns['Random Forest Classifier(Development)'] = percentageLowRuns.apply(lambda x: train.ComputeClassifierAccuracy(x['Model'], classifierModelUsed['Threshold'], x['Development']), axis = 'columns')\n",
    "percentageLowRuns['Random Forest Classifier(Validation)'] = percentageLowRuns.apply(lambda x: train.ComputeClassifierAccuracy(x['Model'], classifierModelUsed['Threshold'], x['Validation']), axis = 'columns')\n",
    "percentageLowRuns['Always Low ε(Development)'] = percentageLowRuns.apply(lambda x: ComputeAllowsLowAccuracy(classifierModelUsed['Threshold'], x['Development']), axis = 'columns')\n",
    "percentageLowRuns['Always Low ε(Validation)'] = percentageLowRuns.apply(lambda x: ComputeAllowsLowAccuracy(classifierModelUsed['Threshold'], x['Validation']), axis = 'columns')"
   ]
  },
  {
   "cell_type": "code",
   "execution_count": null,
   "id": "d8ee3885",
   "metadata": {},
   "outputs": [],
   "source": [
    "fig, axes = plt.subplots(ncols = 2, figsize = (11, 4), constrained_layout = True)\n",
    "\n",
    "graphData = bestModels[['Threshold', 'Random Forest Classifier(Development)', 'Random Forest Classifier(Validation)', 'Always Low ε(Development)', 'Always Low ε(Validation)']]\n",
    "graphData = graphData.melt(id_vars = ['Threshold'])\n",
    "graphData['Threshold'] = graphData['Threshold'] / 1000\n",
    "\n",
    "g = sns.lineplot(data = graphData, x = 'Threshold', y = 'value', hue = 'variable', ax = axes[0])\n",
    "g.set(ylim = (.9, 1), ylabel = 'Accuracy', xlabel = labels.EpsilonFull);\n",
    "g.legend_.set_title('Model (Dataset)')\n",
    "\n",
    "graphData = percentageLowRuns.drop(['Development', 'Validation', 'Model'], axis = 'columns').melt('Percentage Low ε')\n",
    "\n",
    "g = sns.lineplot(data = graphData, x = 'Percentage Low ε', y = 'value', hue = 'variable', ax = axes[1])\n",
    "g.set(ylabel = 'Accuracy', xlabel = 'Percentage Low ε in Dataset');\n",
    "g.legend_.set_title('Model(Dataset)')\n",
    "\n",
    "fig.savefig('../output/chart-overall-RandomForestClassifier.png', bbox_inches = 'tight', dpi = 600)"
   ]
  },
  {
   "cell_type": "code",
   "execution_count": null,
   "id": "32cb2676",
   "metadata": {},
   "outputs": [],
   "source": [
    "print('Classifier model used in experiments:')\n",
    "print('Threshold of ' + str(classifierModelUsed['Threshold']))\n",
    "display(classifierModelUsed['Model Params'])"
   ]
  },
  {
   "cell_type": "code",
   "execution_count": null,
   "id": "e76c2c0e",
   "metadata": {},
   "outputs": [],
   "source": []
  }
 ],
 "metadata": {
  "kernelspec": {
   "display_name": "Python 3 (ipykernel)",
   "language": "python",
   "name": "python3"
  },
  "language_info": {
   "codemirror_mode": {
    "name": "ipython",
    "version": 3
   },
   "file_extension": ".py",
   "mimetype": "text/x-python",
   "name": "python",
   "nbconvert_exporter": "python",
   "pygments_lexer": "ipython3",
   "version": "3.9.7"
  }
 },
 "nbformat": 4,
 "nbformat_minor": 5
}
